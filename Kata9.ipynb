{
 "cells": [
  {
   "cell_type": "markdown",
   "metadata": {},
   "source": [
    "Ejercicio: Uso de funciones en Python"
   ]
  },
  {
   "cell_type": "code",
   "execution_count": 22,
   "metadata": {},
   "outputs": [
    {
     "name": "stdout",
     "output_type": "stream",
     "text": [
      "Reporte de combustible:\n",
      "    Promedio de combustible: 89.33333333333333%\n",
      "    Primer tanque: 91%\n",
      "    Segundo tanque: 93%\n",
      "    Tercer tanque: 84%\n",
      "    \n"
     ]
    }
   ],
   "source": [
    "def informeCombustible(tanque1, tanque2, tanque3):\n",
    "    return f\"\"\"Reporte de combustible:\n",
    "    Promedio de combustible: {promedio([tanque1, tanque2, tanque3])}%\n",
    "    Primer tanque: {tanque1}%\n",
    "    Segundo tanque: {tanque2}%\n",
    "    Tercer tanque: {tanque3}%\n",
    "    \"\"\"\n",
    "\n",
    "# Función promedio \n",
    "def promedio(valores):\n",
    "    combustibleTotal = sum(valores)\n",
    "    numeroTanques = len(valores)\n",
    "    return combustibleTotal / numeroTanques\n",
    "\n",
    "print(informeCombustible(91, 93, 84))\n",
    "\n"
   ]
  },
  {
   "cell_type": "markdown",
   "metadata": {},
   "source": [
    "Ejercicio 2:"
   ]
  },
  {
   "cell_type": "code",
   "execution_count": 30,
   "metadata": {},
   "outputs": [
    {
     "name": "stdout",
     "output_type": "stream",
     "text": [
      "\n",
      "        Destino: Luna\n",
      "        Tiempo de total del vuelo: 76 minutos\n",
      "        Combustible total restante: 500000\n",
      "    \n",
      "\n",
      "        Destino: Luna\n",
      "        Tiempo de total del vuelo: 76 minutos\n",
      "        Combustible total restante: 500000\n",
      "     tanque --> interno  300000 gallones\n",
      " tanque --> externo  200000 gallones\n",
      "\n"
     ]
    }
   ],
   "source": [
    "# Función con un informe preciso de la misión. Considera hora de prelanzamiento, tiempo de vuelo, destino, tanque externo y tanque interno\n",
    "def informeMision(horaPrelanzamiento, tiempoVuelo, destino, tanqueExterno, tanqueInterno):\n",
    "    return f\"\"\"\n",
    "        Hora de prelanzamiento: {horaPrelanzamiento}\n",
    "        Tiempo de vuelo: {tiempoVuelo}\n",
    "        Tiempo de vuelo total: {tiempoVuelo + horaPrelanzamiento} Minutos\n",
    "        Destino: {destino}\n",
    "        Tanque externo: {tanqueExterno}\n",
    "        Tanque interno: {tanqueInterno}\n",
    "        Combustible total: {tanqueInterno + tanqueExterno}\n",
    "    \"\"\"\n",
    "\n",
    "# Escribe tu nueva función de reporte considerando lo anterior\n",
    "def informeMision(destino, *minutosVuelo, **reservaCombustible):\n",
    "    return f\"\"\"\n",
    "        Destino: {destino}\n",
    "        Tiempo de total del vuelo: {sum(minutosVuelo)} minutos\n",
    "        Combustible total restante: {sum(reservaCombustible.values())}\n",
    "    \"\"\"\n",
    "\n",
    "print(informeMision('Luna', 10, 15, 51, interno=300000, externo=200000))\n",
    "\n",
    "# Escribe tu nueva función\n",
    "def informeMision(destino, *minutosVuelo, **reservaCombustible):\n",
    "    informe = f\"\"\"\n",
    "        Destino: {destino}\n",
    "        Tiempo de total del vuelo: {sum(minutosVuelo)} minutos\n",
    "        Combustible total restante: {sum(reservaCombustible.values())}\n",
    "    \"\"\"\n",
    "    for tanque, gallones in reservaCombustible.items():\n",
    "        informe += f\" tanque --> {tanque}  {gallones} gallones\\n\"\n",
    "    return informe\n",
    " \n",
    "print(informeMision('Luna', 10, 15, 51, interno=300000, externo=200000))"
   ]
  }
 ],
 "metadata": {
  "interpreter": {
   "hash": "3fce05841e37017c6b5ed17d9a9c944c71942049f3bcbd5ed28e21f090ddf159"
  },
  "kernelspec": {
   "display_name": "Python 3.10.0 64-bit",
   "language": "python",
   "name": "python3"
  },
  "language_info": {
   "codemirror_mode": {
    "name": "ipython",
    "version": 3
   },
   "file_extension": ".py",
   "mimetype": "text/x-python",
   "name": "python",
   "nbconvert_exporter": "python",
   "pygments_lexer": "ipython3",
   "version": "3.10.0"
  },
  "orig_nbformat": 4
 },
 "nbformat": 4,
 "nbformat_minor": 2
}
