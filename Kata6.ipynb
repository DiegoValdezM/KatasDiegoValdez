{
 "cells": [
  {
   "cell_type": "markdown",
   "metadata": {},
   "source": [
    "Ejercicio1: Crear y usar listas de Python"
   ]
  },
  {
   "cell_type": "code",
   "execution_count": 7,
   "metadata": {},
   "outputs": [
    {
     "name": "stdout",
     "output_type": "stream",
     "text": [
      "Numero de planetas: 9\n",
      "Ultimo planeta: Pluton\n"
     ]
    }
   ],
   "source": [
    "#Creamos lista de planetas\n",
    "planets = ['Mercurio', 'Venus', 'Tierra', 'Marte', 'Jupiter', 'Saturno', 'Urano', 'Neptuno']\n",
    "\n",
    "#Agregar a pluton\n",
    "planets.append('Pluton')\n",
    "numeroPlanetas = len(planets)\n",
    "\n",
    "#Mostrar datos\n",
    "print(\"Numero de planetas: \" + str(numeroPlanetas))\n",
    "print(\"Ultimo planeta: \" + planets[8])"
   ]
  },
  {
   "cell_type": "markdown",
   "metadata": {},
   "source": [
    "Ejercicio 2: Trabajando con datos de una lista"
   ]
  },
  {
   "cell_type": "code",
   "execution_count": 18,
   "metadata": {},
   "outputs": [
    {
     "name": "stdout",
     "output_type": "stream",
     "text": [
      "Tierra Es el planeta numero 3 en el sistema solar\n",
      "Planetas antes de Tierra\n",
      "['Mercurio', 'Venus']\n",
      "Planetas despues de Tierra\n",
      "['Marte', 'Jupiter', 'Saturno', 'Urano', 'Neptuno']\n"
     ]
    }
   ],
   "source": [
    "#Lista de planetas\n",
    "planets = ['Mercurio', 'Venus', 'Tierra', 'Marte', 'Jupiter', 'Saturno', 'Urano', 'Neptuno']\n",
    "\n",
    "#Solicitar planeta\n",
    "planetaIntroducido = input(\"Introduce el nombre de un planeta empezando con mayuscula\")\n",
    "\n",
    "#Encontrar planeta\n",
    "planeta_index = planets.index(planetaIntroducido)\n",
    "print(planetaIntroducido, \"Es el planeta numero\", planeta_index + 1, 'en el sistema solar')\n",
    "\n",
    "#Planetas mas cercanos al sol\n",
    "print('Planetas antes de', planetaIntroducido)\n",
    "print(planets[0:planeta_index])\n",
    "\n",
    "#Planetas mas lejanos al sol\n",
    "print('Planetas despues de', planetaIntroducido)\n",
    "print(planets[planeta_index + 1:])"
   ]
  }
 ],
 "metadata": {
  "interpreter": {
   "hash": "3fce05841e37017c6b5ed17d9a9c944c71942049f3bcbd5ed28e21f090ddf159"
  },
  "kernelspec": {
   "display_name": "Python 3.10.0 64-bit",
   "language": "python",
   "name": "python3"
  },
  "language_info": {
   "codemirror_mode": {
    "name": "ipython",
    "version": 3
   },
   "file_extension": ".py",
   "mimetype": "text/x-python",
   "name": "python",
   "nbconvert_exporter": "python",
   "pygments_lexer": "ipython3",
   "version": "3.10.0"
  },
  "orig_nbformat": 4
 },
 "nbformat": 4,
 "nbformat_minor": 2
}
