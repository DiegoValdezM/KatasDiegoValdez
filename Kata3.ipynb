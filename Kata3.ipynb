{
 "cells": [
  {
   "cell_type": "markdown",
   "metadata": {},
   "source": [
    "Ejercicio - Escribir declaraciones if, else, y elif"
   ]
  },
  {
   "cell_type": "code",
   "execution_count": 4,
   "metadata": {},
   "outputs": [
    {
     "name": "stdout",
     "output_type": "stream",
     "text": [
      "Un esteroide muy peligroso se acerca a la tierra\n"
     ]
    }
   ],
   "source": [
    "velocidadAsteroide = 49\n",
    "if velocidadAsteroide > 25:\n",
    "    print(\"Un esteroide muy peligroso se acerca a la tierra\")\n",
    "else:\n",
    "    print(\"Tu dia esta a salvo\")\n"
   ]
  },
  {
   "cell_type": "code",
   "execution_count": 3,
   "metadata": {},
   "outputs": [
    {
     "name": "stdout",
     "output_type": "stream",
     "text": [
      "Tu dia esta bien, todo tranqui\n"
     ]
    }
   ],
   "source": [
    "velocidadAsteroide = 19\n",
    "if velocidadAsteroide >= 20:\n",
    "    print(\"Una luz brillante se ve desde el cielo, alerta!\")\n",
    "else:\n",
    "    print(\"Tu dia esta bien, todo tranqui\")\n"
   ]
  },
  {
   "cell_type": "markdown",
   "metadata": {},
   "source": [
    "Ejercicio: Uso de operadores and y or"
   ]
  },
  {
   "cell_type": "code",
   "execution_count": null,
   "metadata": {},
   "outputs": [],
   "source": [
    "velocidadAsteroide = 25\n",
    "tamanoAsteroide = 40\n",
    "if velocidadAsteroide > 25 and tamanoAsteroide > 25:\n",
    "    print(\"Se acerca un asteroide peligroso\")\n",
    "elif velocidadAsteroide >= 20:\n",
    "    print(\"Una luz brillante se ve desde el cielo, alerta!\")\n",
    "elif tamanoAsteroide < 25:\n",
    "    print(\"Tu dia esta a salvo\")\n",
    "else:\n",
    "    print(\"Tu dia esta a salvo\")"
   ]
  }
 ],
 "metadata": {
  "interpreter": {
   "hash": "4c6ddb8cb7da784b4c86c4b4a645a69da8488c010396adfec38884a5a282d0a1"
  },
  "kernelspec": {
   "display_name": "Python 3.10.0 ('LaunchX': venv)",
   "language": "python",
   "name": "python3"
  },
  "language_info": {
   "codemirror_mode": {
    "name": "ipython",
    "version": 3
   },
   "file_extension": ".py",
   "mimetype": "text/x-python",
   "name": "python",
   "nbconvert_exporter": "python",
   "pygments_lexer": "ipython3",
   "version": "3.10.0"
  },
  "orig_nbformat": 4
 },
 "nbformat": 4,
 "nbformat_minor": 2
}
